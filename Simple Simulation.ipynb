{
 "cells": [
  {
   "cell_type": "code",
   "execution_count": 99,
   "metadata": {},
   "outputs": [
    {
     "name": "stdout",
     "output_type": "stream",
     "text": [
      "2 of Diamonds,2 of Clubs,2 of Hearts,2 of Spades,3 of Diamonds,3 of Clubs,3 of Hearts,3 of Spades,4 of Diamonds,4 of Clubs,4 of Hearts,4 of Spades,5 of Diamonds,5 of Clubs,5 of Hearts,5 of Spades,6 of Diamonds,6 of Clubs,6 of Hearts,6 of Spades,7 of Diamonds,7 of Clubs,7 of Hearts,7 of Spades,8 of Diamonds,8 of Clubs,8 of Hearts,8 of Spades,9 of Diamonds,9 of Clubs,9 of Hearts,9 of Spades,10 of Diamonds,10 of Clubs,10 of Hearts,10 of Spades,Jack of Diamonds,Jack of Clubs,Jack of Hearts,Jack of Spades,Queen of Diamonds,Queen of Clubs,Queen of Hearts,Queen of Spades,King of Diamonds,King of Clubs,King of Hearts,King of Spades,Ace of Diamonds,Ace of Clubs,Ace of Hearts,Ace of Spades,\n"
     ]
    }
   ],
   "source": [
    "# First a deck\n",
    "import random\n",
    "class Card:\n",
    "    \n",
    "    SUIT_LOOKUP = [\"Diamonds\", \"Clubs\", \"Hearts\", \"Spades\"]\n",
    "    RANK_LOOKUP = map(str, range(2,11)) + [\"Jack\", \"Queen\", \"King\", \"Ace\"]\n",
    "    def __init__(self, rank = 0, suit=0):\n",
    "        self.suit = suit\n",
    "        self.rank = rank\n",
    "        \n",
    "    def __str__(self):\n",
    "        return self.RANK_LOOKUP[self.rank] + \" of \" + self.SUIT_LOOKUP[self.suit]\n",
    "    \n",
    "    def __eq__(self, other):\n",
    "        return self.suit == other.suit and self.rank == other.rank\n",
    "    \n",
    "class Deck:\n",
    "    \n",
    "    def __init__(self):\n",
    "        self.Cards = []\n",
    "        for rank in range(13):\n",
    "            for suit in range(4):\n",
    "                self.Cards += Card(rank, suit),\n",
    "          \n",
    "    def shuffle(self):\n",
    "        random.shuffle(self.Cards)\n",
    "        \n",
    "    def get_pocket_pair(self, rank=None, suits=None):\n",
    "        # get a pocket pair and remove it from the deck\n",
    "        if rank == None:\n",
    "            rank = random.choice(range(13))\n",
    "        if suits == None:\n",
    "            suits = random.sample(range(4), 2)\n",
    "        pair = Card(rank, suits[0]), Card(rank, suits[1])\n",
    "        try:\n",
    "            map(self.Cards.remove, pair)\n",
    "        except:\n",
    "            print \"Exception\"\n",
    "            print pair\n",
    "        #print map(str, pair)\n",
    "        return pair\n",
    "    \n",
    "    def deal_hole_cards(self, num_players):\n",
    "        for i in range(num_players):\n",
    "            yield random.sample(self.Cards, 2)       \n",
    "        \n",
    "    def __str__(self):\n",
    "        toWrite = \"\"\n",
    "        for card in self.Cards:\n",
    "            toWrite += str(card) +\",\"\n",
    "        return toWrite\n",
    "    \n",
    "def is_pair(cards):\n",
    "    return len(cards) == 2 and cards[0].rank == cards[1].rank\n",
    "\n",
    "def is_bigger_pair(my_pair, other):\n",
    "    return is_pair(other) and other[0].rank > my_pair[0].rank\n",
    "\n",
    "d = Deck()\n",
    "print d"
   ]
  },
  {
   "cell_type": "code",
   "execution_count": 101,
   "metadata": {},
   "outputs": [
    {
     "name": "stdout",
     "output_type": "stream",
     "text": [
      "2 605 0.0605\n",
      "3 545 0.0545\n",
      "4 521 0.0521\n",
      "5 435 0.0435\n",
      "6 428 0.0428\n",
      "7 349 0.0349\n",
      "8 268 0.0268\n",
      "9 220 0.022\n",
      "10 193 0.0193\n",
      "Jack 162 0.0162\n",
      "Queen 88 0.0088\n",
      "King 62 0.0062\n"
     ]
    }
   ],
   "source": [
    "c = {}\n",
    "for rank in range(13):\n",
    "    d = Deck()\n",
    "    pp = d.get_pocket_pair(rank)\n",
    "    num_players = 10000\n",
    "    for other in d.deal_hole_cards(num_players):\n",
    "        if is_bigger_pair(pp, other):\n",
    "            c[pp[0].RANK_LOOKUP[rank]] = c.get(pp[0].RANK_LOOKUP[rank], 0) + 1\n",
    "\n",
    "for rank in sorted(c, key=c.get, reverse=True):\n",
    "    print rank, c[rank], c[rank]*1./num_players\n",
    "            \n",
    "            \n",
    "        "
   ]
  },
  {
   "cell_type": "code",
   "execution_count": 51,
   "metadata": {},
   "outputs": [
    {
     "name": "stdout",
     "output_type": "stream",
     "text": [
      "['5 of Hearts']\n",
      "[<__main__.Card instance at 0x10d5cb710>]\n"
     ]
    },
    {
     "ename": "ValueError",
     "evalue": "list.remove(x): x not in list",
     "output_type": "error",
     "traceback": [
      "\u001b[0;31m---------------------------------------------------------------------------\u001b[0m",
      "\u001b[0;31mValueError\u001b[0m                                Traceback (most recent call last)",
      "\u001b[0;32m<ipython-input-51-05c8ad5aea5e>\u001b[0m in \u001b[0;36m<module>\u001b[0;34m()\u001b[0m\n\u001b[1;32m      2\u001b[0m \u001b[0;32mprint\u001b[0m \u001b[0mmap\u001b[0m\u001b[0;34m(\u001b[0m\u001b[0mstr\u001b[0m\u001b[0;34m,\u001b[0m \u001b[0mg\u001b[0m\u001b[0;34m)\u001b[0m\u001b[0;34m\u001b[0m\u001b[0m\n\u001b[1;32m      3\u001b[0m \u001b[0;32mprint\u001b[0m \u001b[0mg\u001b[0m\u001b[0;34m\u001b[0m\u001b[0m\n\u001b[0;32m----> 4\u001b[0;31m \u001b[0mg\u001b[0m\u001b[0;34m.\u001b[0m\u001b[0mremove\u001b[0m\u001b[0;34m(\u001b[0m\u001b[0mCard\u001b[0m\u001b[0;34m(\u001b[0m\u001b[0;36m2\u001b[0m\u001b[0;34m,\u001b[0m\u001b[0;36m3\u001b[0m\u001b[0;34m)\u001b[0m\u001b[0;34m)\u001b[0m\u001b[0;34m\u001b[0m\u001b[0m\n\u001b[0m",
      "\u001b[0;31mValueError\u001b[0m: list.remove(x): x not in list"
     ]
    }
   ],
   "source": []
  },
  {
   "cell_type": "code",
   "execution_count": null,
   "metadata": {
    "collapsed": true
   },
   "outputs": [],
   "source": []
  }
 ],
 "metadata": {
  "kernelspec": {
   "display_name": "Python 2",
   "language": "python",
   "name": "python2"
  },
  "language_info": {
   "codemirror_mode": {
    "name": "ipython",
    "version": 2
   },
   "file_extension": ".py",
   "mimetype": "text/x-python",
   "name": "python",
   "nbconvert_exporter": "python",
   "pygments_lexer": "ipython2",
   "version": "2.7.14"
  }
 },
 "nbformat": 4,
 "nbformat_minor": 2
}
